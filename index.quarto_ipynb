{
  "cells": [
    {
      "cell_type": "markdown",
      "metadata": {},
      "source": [
        "---\n",
        "title: \"![ASJ TRI](/img/logo.png){width=\\\"300\\\"}\"\n",
        "# \n",
        "# listing:\n",
        "#   contents: posts\n",
        "#   sort: \"date desc\"\n",
        "#   type: default\n",
        "#   categories: true\n",
        "#   sort-ui: false\n",
        "#   filter-ui: false\n",
        "page-layout: full\n",
        "title-block-banner: false\n",
        "feed: true\n",
        "---\n",
        "\n",
        "::: {.latest-post}\n",
        "\n",
        "```{listing}\n",
        "contents: posts\n",
        "sort: \"date desc\"\n",
        "limit: 1\n",
        "type: default\n",
        "```\n",
        "\n",
        ":::\n",
        "\n",
        "**Welcome to my blog!**\n",
        "\n",
        "I'm a 40-year-old amateur triathlete. As we all do, by day I navigate the corporate world in a 9-to-5 office job, but my heart truly comes alive when I'm training for my next race.\n",
        "\n",
        "**What You'll Find Here**\n",
        "\n",
        "Here, I share my experiences of balancing a full-time career with the demanding world of triathlon training. From early morning swims to lunch-break runs and weekend cycling adventures, I'll take you through the ups and downs of pursuing athletic goals while maintaining a professional career and personal life. I will include race reports, lessons learnt from the trenches, stories about balancing family time, work responsibilities, and training, and challenges and victories of amateur triathlon.\n",
        "\n",
        "**Join Me!**\n",
        "\n",
        "Whether you're a fellow age-group triathlete, someone curious about the sport, or just interested in how to balance multiple passions with daily life, I hope you'll find value in my experiences and insights. Follow along as I share my journey of swimming, biking, and running through life!\n",
        "\n",
        "\n",
        "---\n",
        "\n",
        "# Race reports\n",
        "\n",
        "[![](https://storage.googleapis.com/blogs_josa/sport_small/2023-07-09_BRACEBRIDGE_SPRINT_TRIATHLON/img/19.jpg){width=\"500\"}](posts/race_reports.qmd)\n",
        "\n",
        "# Miscellaneous\n",
        "\n",
        "[![](https://storage.googleapis.com/blogs_josa/sport_small/2025-02-15_season_kit/img/cover.png){width=\"500\"}](posts/others.qmd)"
      ],
      "id": "38fbe5d8"
    }
  ],
  "metadata": {
    "kernelspec": {
      "display_name": "Python 3",
      "language": "python",
      "name": "python3"
    }
  },
  "nbformat": 4,
  "nbformat_minor": 5
}